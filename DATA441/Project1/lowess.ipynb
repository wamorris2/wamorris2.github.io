{
 "cells": [
  {
   "attachments": {},
   "cell_type": "markdown",
   "metadata": {},
   "source": [
    "# Locally Weighted Regression (Lowess)\n",
    "\n",
    "The main idea behind this is that, generally, the relationship between the input features and output is non-linear, but, locally, they can be interpreted as linear.\n",
    "\n",
    "The weights matrix is computed for each new point in the input data using a kernel function (e.g. Gaussian, Epanechnikov, Tricubic, Quartic, etc.). \n",
    "\n",
    "Compared to machine learning, the weights matrix in lowess is computed during the test step because it is reliant on having new data to function.  "
   ]
  },
  {
   "cell_type": "code",
   "execution_count": null,
   "metadata": {},
   "outputs": [],
   "source": [
    "%matplotlib inline\n",
    "%config InlineBackend.figure_format = 'retina'\n",
    "import matplotlib.pyplot as plt\n",
    "import matplotlib as mpl\n",
    "mpl.rcParams['figure.dpi'] = 120"
   ]
  },
  {
   "cell_type": "code",
   "execution_count": null,
   "metadata": {},
   "outputs": [],
   "source": [
    "import numpy as np\n",
    "import pandas as pd\n",
    "from math import ceil\n",
    "from scipy import linalg\n",
    "from scipy.interpolate import interp1d\n",
    "from scipy.linalg import lstsq\n",
    "from sklearn.ensemble import RandomForestRegressor\n",
    "from sklearn.linear_model import LinearRegression, Ridge, ElasticNet\n",
    "from sklearn.preprocessing import StandardScaler\n",
    "import scipy.stats as stats\n",
    "from sklearn.model_selection import train_test_split as tts, KFold\n",
    "from sklearn.metrics import mean_squared_error as mse\n",
    "from scipy.interpolate import interp1d, griddata, LinearNDInterpolator, NearestNDInterpolator\n",
    "import statsmodels.api as sm\n",
    "from math import ceil\n",
    "from IPython.display import Image\n",
    "from IPython.display import display\n",
    "plt.style.use('seaborn-white')\n",
    "\n",
    "# the following line(s) are necessary if you want to make SKlearn compliant functions\n",
    "from sklearn.base import BaseEstimator, RegressorMixin\n",
    "from sklearn.utils.validation import check_X_y, check_array, check_is_fitted"
   ]
  },
  {
   "attachments": {},
   "cell_type": "markdown",
   "metadata": {},
   "source": [
    "## Subtitle"
   ]
  }
 ],
 "metadata": {
  "language_info": {
   "name": "python"
  },
  "orig_nbformat": 4
 },
 "nbformat": 4,
 "nbformat_minor": 2
}
